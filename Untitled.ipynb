{
 "cells": [
  {
   "cell_type": "code",
   "execution_count": 23,
   "metadata": {},
   "outputs": [],
   "source": [
    "from requests import get\n",
    "import pandas as pd\n",
    "from bs4 import BeautifulSoup as bs\n",
    "from fuzzywuzzy import process,fuzz\n",
    "from sklearn import svm\n",
    "from sklearn.preprocessing import MinMaxScaler\n",
    "from sklearn.externals import joblib\n",
    "from sklearn.metrics import roc_auc_score,mean_absolute_error,r2_score\n",
    "\n",
    "data= get(\"https://archive.ics.uci.edu/ml/machine-learning-databases/movies-mld/data/main.html\")\n",
    "\n",
    "# Kaggle DataSet =\"https://www.kaggle.com/PromptCloudHQ/imdb-data/data\"\n",
    "kaggle= pd.read_csv(\"IMDB-Movie-Data.csv\")"
   ]
  },
  {
   "cell_type": "code",
   "execution_count": 4,
   "metadata": {
    "collapsed": true
   },
   "outputs": [],
   "source": [
    "soup= bs(data.content,\"lxml\")\n",
    "table = soup.findAll('table')\n",
    "movieslist=[]\n",
    "for i in table:\n",
    "    x=i.findAll('tr')\n",
    "    for y in x:\n",
    "        try:\n",
    "            movieslist.append( str( y.findAll('td')[1] ).split(\":\")[1].split(\"<\")[0] )\n",
    "        except:\n",
    "            pass\n",
    "#print(movieslist)"
   ]
  },
  {
   "cell_type": "code",
   "execution_count": 6,
   "metadata": {
    "scrolled": false
   },
   "outputs": [
    {
     "name": "stdout",
     "output_type": "stream",
     "text": [
      "      Votes  Revenue (Millions)  Metascore  Year  Runtime (Minutes)\n",
      "0  0.422474            0.355669   0.730337  2014                121\n",
      "1  0.271093            0.135016   0.606742  2012                124\n",
      "2  0.087923            0.147465   0.573034  2016                117\n",
      "3  0.033755            0.288609   0.539326  2016                108\n",
      "4  0.219697            0.347010   0.325843  2016                123\n"
     ]
    }
   ],
   "source": [
    "#Kaggle Data Feature Preparation\n",
    "mean_Revenue=kaggle[\"Revenue (Millions)\"][kaggle[\"Revenue (Millions)\"].notnull()].mean()\n",
    "kaggle[\"Revenue (Millions)\"].fillna(mean_Revenue,inplace=True)\n",
    "\n",
    "mean_Metascore = kaggle[\"Metascore\"][kaggle[\"Metascore\"].notnull()].mean()\n",
    "kaggle[\"Metascore\"].fillna(mean_Metascore,inplace=True)\n",
    "\n",
    "features=[\"Votes\",\"Revenue (Millions)\",\"Metascore\",\"Year\",\"Runtime (Minutes)\"]\n",
    "XX=kaggle[features]\n",
    "\n",
    "y=\"Rating\"\n",
    "Y=kaggle[\"Rating\"]\n",
    "movies = kaggle[\"Title\"]\n",
    "\n",
    "scaler = MinMaxScaler()\n",
    "scaler.fit(kaggle[[\"Votes\",\"Revenue (Millions)\",\"Metascore\"]])\n",
    "X=pd.DataFrame(scaler.transform(kaggle[[\"Votes\",\"Revenue (Millions)\",\"Metascore\"]]))\n",
    "X[\"Year\"],X[\"Runtime (Minutes)\"]=kaggle[\"Year\"],kaggle[\"Runtime (Minutes)\"]\n",
    "#print(X.isnull().values.any())\n",
    "X.columns =(features)\n",
    "print(X.head())"
   ]
  },
  {
   "cell_type": "code",
   "execution_count": 7,
   "metadata": {
    "scrolled": true
   },
   "outputs": [
    {
     "name": "stdout",
     "output_type": "stream",
     "text": [
      "(1000, 5)\n",
      "0.07460245585167598\n"
     ]
    }
   ],
   "source": [
    "#svm Model\n",
    "from sklearn import svm\n",
    "clf=svm.SVR()\n",
    "clf.fit(X,Y)\n",
    "predicted=clf.predict(X)\n",
    "joblib.dump(clf,\"svm.pkl\")\n",
    "clf = joblib.load('svm.pkl') \n",
    "predicted=clf.predict(X)\n",
    "print(X.shape)\n",
    "print((abs(predicted)-abs(Y) ).mean())"
   ]
  },
  {
   "cell_type": "code",
   "execution_count": 8,
   "metadata": {},
   "outputs": [
    {
     "name": "stdout",
     "output_type": "stream",
     "text": [
      "[  3.35944847e+00  -1.33687549e+00   2.36652642e+00  -2.62357252e-03\n",
      "   9.03804021e-03]\n",
      "-2.177813485104707e-15\n"
     ]
    }
   ],
   "source": [
    "# LassoLars\n",
    "from sklearn import linear_model\n",
    "reg = linear_model.LassoLars(alpha=0,normalize=False)\n",
    "(reg.fit(X,Y))\n",
    "joblib.dump(reg,\"lasso.pkl\")\n",
    "clf = joblib.load('lasso.pkl') \n",
    "predicted=clf.predict(X)\n",
    "print(clf.coef_)\n",
    "print((abs(predicted)-abs(Y)).mean())"
   ]
  },
  {
   "cell_type": "code",
   "execution_count": 9,
   "metadata": {
    "collapsed": true
   },
   "outputs": [],
   "source": [
    "def movie_rating_SVM(movieName=\"Step UP\"):\n",
    "    i=process.extractOne(movieName,movies ,scorer=fuzz.token_sort_ratio)\n",
    "    Xtest=kaggle.iloc[i[2]][features]\n",
    "    clf = joblib.load('svm.pkl')\n",
    "    Ypredicted=clf.predict(Xtest.values.reshape(1,5))\n",
    "    Ytrue=kaggle.iloc[i[2]][y]\n",
    "    print(\"SVM\",{\"mean_absolute_error\":mean_absolute_error([Ytrue],Ypredicted),\n",
    "          \"r2_scor\": r2_score([Ytrue],Ypredicted)})\n",
    "    return(\"%.2f/%.2f \"  %(Ypredicted[0] ,Ytrue))\n"
   ]
  },
  {
   "cell_type": "code",
   "execution_count": 10,
   "metadata": {
    "collapsed": true
   },
   "outputs": [],
   "source": [
    "def movie_rating_Lasso(movieName=\"Step UP\"):\n",
    "    i=process.extractOne(movieName,movies ,scorer=fuzz.token_sort_ratio)\n",
    "    Xtest=X.iloc[i[2]][features]\n",
    "    clf = joblib.load('lasso.pkl')\n",
    "    Ypredicted=clf.predict(Xtest.values.reshape(1,5))\n",
    "    Ytrue= kaggle.iloc[i[2]][y]\n",
    "    print(\"Lasso\",{\"mean_absolute_error\":mean_absolute_error([Ytrue],Ypredicted),\n",
    "          \"r2_scor\": r2_score([Ytrue],Ypredicted)})\n",
    "    return(\"%.2f/%.2f \"  %(Ypredicted[0] ,Ytrue))\n"
   ]
  },
  {
   "cell_type": "code",
   "execution_count": 11,
   "metadata": {},
   "outputs": [
    {
     "name": "stdout",
     "output_type": "stream",
     "text": [
      "SVM {'mean_absolute_error': 0.57526194020021215, 'r2_scor': 0.0}\n",
      "SVM: 7.08/6.50 \n",
      "Lasso {'mean_absolute_error': 0.24720526981114688, 'r2_scor': 0.0}\n",
      "Lasso: 6.25/6.50 \n"
     ]
    }
   ],
   "source": [
    "# User ->To Enter the Movie Name as Argument\n",
    "# Example -> movie_rating_SVM(\"Step UP\")\n",
    "print(\"SVM:\",movie_rating_SVM())\n",
    "print(\"Lasso:\",movie_rating_Lasso())"
   ]
  },
  {
   "cell_type": "markdown",
   "metadata": {},
   "source": [
    "Interpretation => On removing last two features while training SVM model, it will give better accuracy."
   ]
  },
  {
   "cell_type": "code",
   "execution_count": 24,
   "metadata": {},
   "outputs": [],
   "source": [
    "#from sklearn.model_selection import GridSearchCV\n",
    "#clf=svm.SVR()\n",
    "#params =dict(kernal=['linear', 'rbf', 'sigmoid'],)\n",
    "#grid = GridSearchCV(clf,params,cv=10,scoring=\"accuracy\",n_jobs=-1)\n",
    "#grid.fit(X,Y)\n",
    "\n"
   ]
  }
 ],
 "metadata": {
  "kernelspec": {
   "display_name": "Python 3",
   "language": "python",
   "name": "python3"
  },
  "language_info": {
   "codemirror_mode": {
    "name": "ipython",
    "version": 3
   },
   "file_extension": ".py",
   "mimetype": "text/x-python",
   "name": "python",
   "nbconvert_exporter": "python",
   "pygments_lexer": "ipython3",
   "version": "3.6.3"
  }
 },
 "nbformat": 4,
 "nbformat_minor": 2
}
